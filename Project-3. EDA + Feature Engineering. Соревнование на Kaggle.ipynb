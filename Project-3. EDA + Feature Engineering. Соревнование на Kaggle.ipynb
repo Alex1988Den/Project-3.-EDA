{
 "cells": [
  {
   "cell_type": "code",
   "execution_count": null,
   "id": "0bd9bc0f",
   "metadata": {},
   "outputs": [],
   "source": [
    "Шаг 1: Загрузка данных\n",
    "\n",
    "Мы начнем с загрузки данных, чтобы оценить, какие у нас есть наборы данных и какие признаки доступны."
   ]
  },
  {
   "cell_type": "code",
   "execution_count": 81,
   "id": "869277ff",
   "metadata": {},
   "outputs": [
    {
     "data": {
      "text/html": [
       "<div>\n",
       "<style scoped>\n",
       "    .dataframe tbody tr th:only-of-type {\n",
       "        vertical-align: middle;\n",
       "    }\n",
       "\n",
       "    .dataframe tbody tr th {\n",
       "        vertical-align: top;\n",
       "    }\n",
       "\n",
       "    .dataframe thead th {\n",
       "        text-align: right;\n",
       "    }\n",
       "</style>\n",
       "<table border=\"1\" class=\"dataframe\">\n",
       "  <thead>\n",
       "    <tr style=\"text-align: right;\">\n",
       "      <th></th>\n",
       "      <th>hotel_address</th>\n",
       "      <th>additional_number_of_scoring</th>\n",
       "      <th>review_date</th>\n",
       "      <th>average_score</th>\n",
       "      <th>hotel_name</th>\n",
       "      <th>reviewer_nationality</th>\n",
       "      <th>negative_review</th>\n",
       "      <th>review_total_negative_word_counts</th>\n",
       "      <th>total_number_of_reviews</th>\n",
       "      <th>positive_review</th>\n",
       "      <th>review_total_positive_word_counts</th>\n",
       "      <th>total_number_of_reviews_reviewer_has_given</th>\n",
       "      <th>reviewer_score</th>\n",
       "      <th>tags</th>\n",
       "      <th>days_since_review</th>\n",
       "      <th>lat</th>\n",
       "      <th>lng</th>\n",
       "    </tr>\n",
       "  </thead>\n",
       "  <tbody>\n",
       "    <tr>\n",
       "      <th>0</th>\n",
       "      <td>Stratton Street Mayfair Westminster Borough Lo...</td>\n",
       "      <td>581</td>\n",
       "      <td>2/19/2016</td>\n",
       "      <td>8.4</td>\n",
       "      <td>The May Fair Hotel</td>\n",
       "      <td>United Kingdom</td>\n",
       "      <td>Leaving</td>\n",
       "      <td>3</td>\n",
       "      <td>1994</td>\n",
       "      <td>Staff were amazing</td>\n",
       "      <td>4</td>\n",
       "      <td>7</td>\n",
       "      <td>10.0</td>\n",
       "      <td>[' Leisure trip ', ' Couple ', ' Studio Suite ...</td>\n",
       "      <td>531 day</td>\n",
       "      <td>51.507894</td>\n",
       "      <td>-0.143671</td>\n",
       "    </tr>\n",
       "    <tr>\n",
       "      <th>1</th>\n",
       "      <td>130 134 Southampton Row Camden London WC1B 5AF...</td>\n",
       "      <td>299</td>\n",
       "      <td>1/12/2017</td>\n",
       "      <td>8.3</td>\n",
       "      <td>Mercure London Bloomsbury Hotel</td>\n",
       "      <td>United Kingdom</td>\n",
       "      <td>poor breakfast</td>\n",
       "      <td>3</td>\n",
       "      <td>1361</td>\n",
       "      <td>location</td>\n",
       "      <td>2</td>\n",
       "      <td>14</td>\n",
       "      <td>6.3</td>\n",
       "      <td>[' Business trip ', ' Couple ', ' Standard Dou...</td>\n",
       "      <td>203 day</td>\n",
       "      <td>51.521009</td>\n",
       "      <td>-0.123097</td>\n",
       "    </tr>\n",
       "    <tr>\n",
       "      <th>2</th>\n",
       "      <td>151 bis Rue de Rennes 6th arr 75006 Paris France</td>\n",
       "      <td>32</td>\n",
       "      <td>10/18/2016</td>\n",
       "      <td>8.9</td>\n",
       "      <td>Legend Saint Germain by Elegancia</td>\n",
       "      <td>China</td>\n",
       "      <td>No kettle in room</td>\n",
       "      <td>6</td>\n",
       "      <td>406</td>\n",
       "      <td>No Positive</td>\n",
       "      <td>0</td>\n",
       "      <td>14</td>\n",
       "      <td>7.5</td>\n",
       "      <td>[' Leisure trip ', ' Solo traveler ', ' Modern...</td>\n",
       "      <td>289 day</td>\n",
       "      <td>48.845377</td>\n",
       "      <td>2.325643</td>\n",
       "    </tr>\n",
       "    <tr>\n",
       "      <th>3</th>\n",
       "      <td>216 Avenue Jean Jaures 19th arr 75019 Paris Fr...</td>\n",
       "      <td>34</td>\n",
       "      <td>9/22/2015</td>\n",
       "      <td>7.5</td>\n",
       "      <td>Mercure Paris 19 Philharmonie La Villette</td>\n",
       "      <td>United Kingdom</td>\n",
       "      <td>No Negative</td>\n",
       "      <td>0</td>\n",
       "      <td>607</td>\n",
       "      <td>Friendly staff quiet comfortable room spotles...</td>\n",
       "      <td>11</td>\n",
       "      <td>8</td>\n",
       "      <td>10.0</td>\n",
       "      <td>[' Leisure trip ', ' Solo traveler ', ' Standa...</td>\n",
       "      <td>681 day</td>\n",
       "      <td>48.888697</td>\n",
       "      <td>2.394540</td>\n",
       "    </tr>\n",
       "    <tr>\n",
       "      <th>4</th>\n",
       "      <td>Molenwerf 1 1014 AG Amsterdam Netherlands</td>\n",
       "      <td>914</td>\n",
       "      <td>3/5/2016</td>\n",
       "      <td>8.5</td>\n",
       "      <td>Golden Tulip Amsterdam West</td>\n",
       "      <td>Poland</td>\n",
       "      <td>Torn sheets</td>\n",
       "      <td>4</td>\n",
       "      <td>7586</td>\n",
       "      <td>The staff was very friendly and helpful Break...</td>\n",
       "      <td>20</td>\n",
       "      <td>10</td>\n",
       "      <td>9.6</td>\n",
       "      <td>[' Business trip ', ' Couple ', ' Standard Dou...</td>\n",
       "      <td>516 day</td>\n",
       "      <td>52.385601</td>\n",
       "      <td>4.847060</td>\n",
       "    </tr>\n",
       "  </tbody>\n",
       "</table>\n",
       "</div>"
      ],
      "text/plain": [
       "                                       hotel_address  \\\n",
       "0  Stratton Street Mayfair Westminster Borough Lo...   \n",
       "1  130 134 Southampton Row Camden London WC1B 5AF...   \n",
       "2   151 bis Rue de Rennes 6th arr 75006 Paris France   \n",
       "3  216 Avenue Jean Jaures 19th arr 75019 Paris Fr...   \n",
       "4          Molenwerf 1 1014 AG Amsterdam Netherlands   \n",
       "\n",
       "   additional_number_of_scoring review_date  average_score  \\\n",
       "0                           581   2/19/2016            8.4   \n",
       "1                           299   1/12/2017            8.3   \n",
       "2                            32  10/18/2016            8.9   \n",
       "3                            34   9/22/2015            7.5   \n",
       "4                           914    3/5/2016            8.5   \n",
       "\n",
       "                                  hotel_name reviewer_nationality  \\\n",
       "0                         The May Fair Hotel      United Kingdom    \n",
       "1            Mercure London Bloomsbury Hotel      United Kingdom    \n",
       "2          Legend Saint Germain by Elegancia               China    \n",
       "3  Mercure Paris 19 Philharmonie La Villette      United Kingdom    \n",
       "4                Golden Tulip Amsterdam West              Poland    \n",
       "\n",
       "       negative_review  review_total_negative_word_counts  \\\n",
       "0             Leaving                                   3   \n",
       "1       poor breakfast                                  3   \n",
       "2   No kettle in room                                   6   \n",
       "3          No Negative                                  0   \n",
       "4         Torn sheets                                   4   \n",
       "\n",
       "   total_number_of_reviews                                    positive_review  \\\n",
       "0                     1994                                 Staff were amazing   \n",
       "1                     1361                                           location   \n",
       "2                      406                                        No Positive   \n",
       "3                      607   Friendly staff quiet comfortable room spotles...   \n",
       "4                     7586   The staff was very friendly and helpful Break...   \n",
       "\n",
       "   review_total_positive_word_counts  \\\n",
       "0                                  4   \n",
       "1                                  2   \n",
       "2                                  0   \n",
       "3                                 11   \n",
       "4                                 20   \n",
       "\n",
       "   total_number_of_reviews_reviewer_has_given  reviewer_score  \\\n",
       "0                                           7            10.0   \n",
       "1                                          14             6.3   \n",
       "2                                          14             7.5   \n",
       "3                                           8            10.0   \n",
       "4                                          10             9.6   \n",
       "\n",
       "                                                tags days_since_review  \\\n",
       "0  [' Leisure trip ', ' Couple ', ' Studio Suite ...           531 day   \n",
       "1  [' Business trip ', ' Couple ', ' Standard Dou...           203 day   \n",
       "2  [' Leisure trip ', ' Solo traveler ', ' Modern...           289 day   \n",
       "3  [' Leisure trip ', ' Solo traveler ', ' Standa...           681 day   \n",
       "4  [' Business trip ', ' Couple ', ' Standard Dou...           516 day   \n",
       "\n",
       "         lat       lng  \n",
       "0  51.507894 -0.143671  \n",
       "1  51.521009 -0.123097  \n",
       "2  48.845377  2.325643  \n",
       "3  48.888697  2.394540  \n",
       "4  52.385601  4.847060  "
      ]
     },
     "execution_count": 81,
     "metadata": {},
     "output_type": "execute_result"
    }
   ],
   "source": [
    "import pandas as pd\n",
    "\n",
    "hotels = pd.read_csv('C:/Users/user/OneDrive/Desktop/jupyter/hotels.csv')\n",
    "hotels.head()"
   ]
  },
  {
   "cell_type": "code",
   "execution_count": 82,
   "id": "4e9afa16",
   "metadata": {},
   "outputs": [
    {
     "name": "stdout",
     "output_type": "stream",
     "text": [
      "Количество столбцов: 17\n",
      "Имена столбцов: Index(['hotel_address', 'additional_number_of_scoring', 'review_date',\n",
      "       'average_score', 'hotel_name', 'reviewer_nationality',\n",
      "       'negative_review', 'review_total_negative_word_counts',\n",
      "       'total_number_of_reviews', 'positive_review',\n",
      "       'review_total_positive_word_counts',\n",
      "       'total_number_of_reviews_reviewer_has_given', 'reviewer_score', 'tags',\n",
      "       'days_since_review', 'lat', 'lng'],\n",
      "      dtype='object')\n"
     ]
    }
   ],
   "source": [
    "num_columns = hotels.shape[1]  # Получаем количество столбцов\n",
    "column_names = hotels.columns  # Получаем имена столбцов\n",
    "\n",
    "print(f\"Количество столбцов: {num_columns}\")\n",
    "print(f\"Имена столбцов: {column_names}\")"
   ]
  },
  {
   "cell_type": "code",
   "execution_count": 11,
   "id": "a1ba1933",
   "metadata": {},
   "outputs": [],
   "source": [
    "Шаг 2: Очистка данных\n",
    "\n",
    "На этом этапе мы произведем очистку данных от пропущенных значений и аномалий."
   ]
  },
  {
   "cell_type": "code",
   "execution_count": 83,
   "id": "ddf0244c",
   "metadata": {},
   "outputs": [
    {
     "name": "stdout",
     "output_type": "stream",
     "text": [
      "hotel_address                                    0\n",
      "additional_number_of_scoring                     0\n",
      "review_date                                      0\n",
      "average_score                                    0\n",
      "hotel_name                                       0\n",
      "reviewer_nationality                             0\n",
      "negative_review                                  0\n",
      "review_total_negative_word_counts                0\n",
      "total_number_of_reviews                          0\n",
      "positive_review                                  0\n",
      "review_total_positive_word_counts                0\n",
      "total_number_of_reviews_reviewer_has_given       0\n",
      "reviewer_score                                   0\n",
      "tags                                             0\n",
      "days_since_review                                0\n",
      "lat                                           2448\n",
      "lng                                           2448\n",
      "dtype: int64\n"
     ]
    }
   ],
   "source": [
    "missing_values = hotels.isnull().sum()\n",
    "print(missing_values)"
   ]
  },
  {
   "cell_type": "code",
   "execution_count": null,
   "id": "1f1e7d96",
   "metadata": {},
   "outputs": [],
   "source": [
    "Отлично, теперь у нас есть информация о количестве пропущенных значений в каждом столбце. Мы видим, что большинство\n",
    "столбцов не имеют пропусков, но столбцы 'lat' и 'lng' имеют по 2448 пропущенных значений. Мы должны решить, как\n",
    "обрабатывать эти пропуски.\n",
    "\n",
    "Есть несколько способов обработки пропущенных значений:\n",
    "\n",
    "    1)Заполнить их средними значениями, медианой или модой для числовых признаков.\n",
    "    2)Заполнить нулями, если это имеет смысл в контексте данных.\n",
    "    3)Исключить строки или столбцы с пропущенными значениями."
   ]
  },
  {
   "cell_type": "code",
   "execution_count": null,
   "id": "c8ad660a",
   "metadata": {},
   "outputs": [],
   "source": [
    "1)Давайте заполним пропущенные значения в столбцах 'lat' и 'lng' средними значениями.\n",
    "Это позволит сохранить данные и учесть их в анализе."
   ]
  },
  {
   "cell_type": "code",
   "execution_count": 84,
   "id": "4a0aa2e0",
   "metadata": {},
   "outputs": [],
   "source": [
    "# Заполнение пропущенных значений в столбцах 'lat' и 'lng' средними значениями\n",
    "hotels['lat'].fillna(hotels['lat'].mean(), inplace=True)\n",
    "hotels['lng'].fillna(hotels['lng'].mean(), inplace=True)"
   ]
  },
  {
   "cell_type": "code",
   "execution_count": null,
   "id": "0bfbce12",
   "metadata": {},
   "outputs": [],
   "source": [
    "Теперь у нас не осталось пропущенных значений в этих столбцах."
   ]
  },
  {
   "cell_type": "code",
   "execution_count": null,
   "id": "bc7eae18",
   "metadata": {},
   "outputs": [],
   "source": [
    "Шаг 3: Исследование данных\n",
    "\n",
    "Изучим данные, чтобы понять, какие признаки могут быть важными для предсказания рейтинга отелей.\n",
    "Мы также можем провести визуализацию данных для лучшего понимания."
   ]
  },
  {
   "cell_type": "code",
   "execution_count": null,
   "id": "ff57a38d",
   "metadata": {},
   "outputs": [],
   "source": [
    "Для начала давайте посмотрим на распределение целевой переменной, которую мы хотим предсказать - 'reviewer_score'.\n",
    "Мы можем построить гистограмму этого распределения, чтобы понять, какие значения рейтинга отелей встречаются чаще."
   ]
  },
  {
   "cell_type": "code",
   "execution_count": 85,
   "id": "231afe5d",
   "metadata": {},
   "outputs": [
    {
     "data": {
      "image/png": "[encoded data removed]",
      "text/plain": [
       "<Figure size 640x480 with 1 Axes>"
      ]
     },
     "metadata": {},
     "output_type": "display_data"
    }
   ],
   "source": [
    "import matplotlib.pyplot as plt\n",
    "\n",
    "# Строим гистограмму распределения рейтинга отелей\n",
    "plt.hist(hotels['reviewer_score'], bins=30)\n",
    "plt.xlabel('Рейтинг отелей')\n",
    "plt.ylabel('Частота')\n",
    "plt.title('Распределение рейтинга отелей')\n",
    "plt.show()"
   ]
  },
  {
   "cell_type": "code",
   "execution_count": null,
   "id": "0bdb2c97",
   "metadata": {},
   "outputs": [],
   "source": [
    "Это позволит нам понять, какие значения рейтинга наиболее распространены в наших данных."
   ]
  },
  {
   "cell_type": "code",
   "execution_count": null,
   "id": "6103dfdb",
   "metadata": {},
   "outputs": [],
   "source": [
    "Шаг 4: Генерация признаков\n",
    "\n",
    "На этом этапе мы создадим новые признаки на основе существующих данных, которые могут помочь улучшить качество модели."
   ]
  },
  {
   "cell_type": "code",
   "execution_count": null,
   "id": "b89c5762",
   "metadata": {},
   "outputs": [],
   "source": [
    "Извлечение информации из даты: Мы можем извлечь год, месяц и день из столбца \"review_date\" для создания новых признаков, связанных с временем."
   ]
  },
  {
   "cell_type": "code",
   "execution_count": 86,
   "id": "ecba2087",
   "metadata": {},
   "outputs": [],
   "source": [
    "hotels['review_date'] = pd.to_datetime(hotels['review_date'])  # Преобразуем столбец 'review_date' в формат даты\n",
    "\n",
    "hotels['year'] = hotels['review_date'].dt.year  # Создаем столбец 'year' с годами\n",
    "hotels['month'] = hotels['review_date'].dt.month  # Создаем столбец 'month' с месяцами\n",
    "hotels['day'] = hotels['review_date'].dt.day  # Создаем столбец 'day' с днями"
   ]
  },
  {
   "cell_type": "code",
   "execution_count": null,
   "id": "08678724",
   "metadata": {},
   "outputs": [],
   "source": [
    "Комбинирование признаков: Мы можем создать новый признак, комбинируя существующие, например, отношение положительных к отрицательным словам в отзывах."
   ]
  },
  {
   "cell_type": "code",
   "execution_count": 87,
   "id": "bc20ef05",
   "metadata": {},
   "outputs": [],
   "source": [
    "# Создаем новый признак - отношение положительных к отрицательным словам\n",
    "hotels['positive_to_negative_ratio'] = hotels['review_total_positive_word_counts'] / (hotels['review_total_negative_word_counts'] + 1)\n",
    "\n",
    "# Добавляем 1 к знаменателю, чтобы избежать деления на ноль\n"
   ]
  },
  {
   "cell_type": "code",
   "execution_count": null,
   "id": "d5660953",
   "metadata": {},
   "outputs": [],
   "source": [
    "Этот код создаст новый столбец positive_to_negative_ratio, который содержит отношение положительных к отрицательным\n",
    "словам в отзывах. Добавление единицы к знаменателю (в данном случае hotels['review_total_negative_word_counts'] + 1)\n",
    "помогает избежать деления на ноль, чтобы избежать потенциальных ошибок при наличии отзывов с нулевым числом\n",
    "отрицательных слов.\n",
    "\n",
    "После создания этого нового признака, он может быть использован для обучения модели и оценки его важности\n",
    "в предсказании рейтинга отелей."
   ]
  },
  {
   "cell_type": "code",
   "execution_count": null,
   "id": "37e0aa20",
   "metadata": {},
   "outputs": [],
   "source": [
    "Шаг 5: Отбор признаков\n",
    "\n",
    "Исследуем значимость признаков и отберем наиболее важные."
   ]
  },
  {
   "cell_type": "code",
   "execution_count": null,
   "id": "fb52990a",
   "metadata": {},
   "outputs": [],
   "source": [
    "Для отбора наиболее важных признаков можно воспользоваться различными методами, такими как анализ важности \n",
    "признаков в случае использования моделей, которые предоставляют эту информацию (например, случайный лес),\n",
    "или методами, такими как анализ корреляции, анализ взаимной информации, и т. д.\n",
    "\n",
    "В данном случае, так как мы будем использовать модель RandomForestRegressor, мы можем воспользоваться\n",
    "встроенным методом для оценки важности признаков. Вот как это можно сделать:"
   ]
  },
  {
   "cell_type": "code",
   "execution_count": 8,
   "id": "198d72ab",
   "metadata": {},
   "outputs": [
    {
     "data": {
      "image/png": "[encoded data removed]",
      "text/plain": [
       "<Figure size 1000x600 with 1 Axes>"
      ]
     },
     "metadata": {},
     "output_type": "display_data"
    }
   ],
   "source": [
    "from sklearn.ensemble import RandomForestRegressor\n",
    "from sklearn.impute import SimpleImputer\n",
    "import numpy as np\n",
    "import matplotlib.pyplot as plt\n",
    "\n",
    "# Выбираем числовые признаки для анализа\n",
    "numerical_features = hotels.select_dtypes(include=[np.number])\n",
    "\n",
    "# Удаляем столбец 'reviewer_score', так как это целевая переменная\n",
    "numerical_features = numerical_features.drop('reviewer_score', axis=1)\n",
    "\n",
    "# Создаем объект SimpleImputer для заполнения пропущенных значений средним\n",
    "imputer = SimpleImputer(strategy='mean')\n",
    "\n",
    "# Применяем импутер к данным\n",
    "X = imputer.fit_transform(numerical_features)\n",
    "\n",
    "# Создаем модель RandomForestRegressor\n",
    "regr = RandomForestRegressor(n_estimators=100)\n",
    "\n",
    "# Обучаем модель на числовых признаках\n",
    "y = hotels['reviewer_score']\n",
    "regr.fit(X, y)\n",
    "\n",
    "# Получаем важности признаков\n",
    "feature_importances = regr.feature_importances_\n",
    "\n",
    "# Создаем датафрейм с названиями признаков и их важностями\n",
    "feature_importance_df = pd.DataFrame({'Feature': numerical_features.columns, 'Importance': feature_importances})\n",
    "\n",
    "# Сортируем по важности в порядке убывания\n",
    "feature_importance_df = feature_importance_df.sort_values(by='Importance', ascending=False)\n",
    "\n",
    "# Визуализируем важности признаков\n",
    "plt.figure(figsize=(10, 6))\n",
    "plt.barh(feature_importance_df['Feature'], feature_importance_df['Importance'])\n",
    "plt.xlabel('Importance')\n",
    "plt.ylabel('Feature')\n",
    "plt.title('Feature Importance')\n",
    "plt.show()"
   ]
  },
  {
   "cell_type": "code",
   "execution_count": null,
   "id": "a6aacc18",
   "metadata": {},
   "outputs": [],
   "source": [
    "Этот код позволит нам оценить важность числовых признаков для модели RandomForestRegressor.\n",
    "Мы можем также рассмотреть другие наборы признаков, включая текстовые и категориальные, для более полного анализа."
   ]
  },
  {
   "cell_type": "code",
   "execution_count": null,
   "id": "d3fe0b82",
   "metadata": {},
   "outputs": [],
   "source": [
    "Для категориальных признаков можно использовать методы кодирования, такие как One-Hot Encoding или Label Encoding,\n",
    "чтобы преобразовать их в числовой формат и использовать в модели."
   ]
  },
  {
   "cell_type": "code",
   "execution_count": null,
   "id": "9e084d8b",
   "metadata": {},
   "outputs": [],
   "source": [
    "One-Hot Encoding\n",
    "\n",
    "One-Hot Encoding преобразует категориальные признаки в бинарные, где каждая уникальная категория становится отдельным\n",
    "бинарным признаком (столбцом) со значениями 0 и 1. Этот метод подходит, если у нас есть не слишком много уникальных\n",
    "категорий."
   ]
  },
  {
   "cell_type": "code",
   "execution_count": 88,
   "id": "c89f0c0e",
   "metadata": {},
   "outputs": [],
   "source": [
    "# Применяем One-Hot Encoding\n",
    "hotels_encoded = pd.get_dummies(hotels, columns=['reviewer_nationality', 'hotel_name'], drop_first=True)"
   ]
  },
  {
   "cell_type": "code",
   "execution_count": null,
   "id": "7fc71ee4",
   "metadata": {},
   "outputs": [],
   "source": [
    "Label Encoding\n",
    "\n",
    "Label Encoding просто присваивает каждой уникальной категории целочисленное значение. Этот метод подходит,\n",
    "если у нас есть много уникальных категорий, и мы хотим сократить количество признаков."
   ]
  },
  {
   "cell_type": "code",
   "execution_count": 89,
   "id": "87fef8eb",
   "metadata": {},
   "outputs": [],
   "source": [
    "from sklearn.preprocessing import LabelEncoder\n",
    "\n",
    "label_encoder = LabelEncoder()\n",
    "hotels['reviewer_nationality_encoded'] = label_encoder.fit_transform(hotels['reviewer_nationality'])\n",
    "hotels['hotel_name_encoded'] = label_encoder.fit_transform(hotels['hotel_name'])"
   ]
  },
  {
   "cell_type": "code",
   "execution_count": null,
   "id": "1448b8fc",
   "metadata": {},
   "outputs": [],
   "source": [
    "Для текстовых признаков, таких как отзывы или теги, мы можем применить методы обработки текста, такие как TF-IDF\n",
    "(Term Frequency-Inverse Document Frequency) и Word Embeddings, чтобы извлечь полезные признаки из текста."
   ]
  },
  {
   "cell_type": "code",
   "execution_count": null,
   "id": "53a8bdc9",
   "metadata": {},
   "outputs": [],
   "source": [
    "TF-IDF (Term Frequency-Inverse Document Frequency):\n",
    "\n",
    "    Этот метод позволяет оценить важность слова в контексте документа относительно всего корпуса текстов.\n",
    "    Преобразование текста в векторы на основе частотности слов.\n",
    "    Преимущества: хорошо работает с небольшими текстами, хорошо интерпретируем, хорошо подходит для моделей,\n",
    "        которые работают с разреженными данными."
   ]
  },
  {
   "cell_type": "code",
   "execution_count": 90,
   "id": "94d34ac9",
   "metadata": {},
   "outputs": [],
   "source": [
    "from sklearn.feature_extraction.text import TfidfVectorizer\n",
    "\n",
    "tfidf_vectorizer = TfidfVectorizer(max_features=1000)  # Можно выбрать количество признаков\n",
    "tfidf_features = tfidf_vectorizer.fit_transform(hotels['positive_review'])"
   ]
  },
  {
   "cell_type": "code",
   "execution_count": null,
   "id": "d19c5774",
   "metadata": {},
   "outputs": [],
   "source": [
    "Word Embeddings:\n",
    "\n",
    "    Word Embeddings (например, Word2Vec, FastText, GloVe) представляют слова в векторной форме так, что семантически близкие слова имеют близкие векторы.\n",
    "    Позволяют учесть семантику слов в тексте.\n",
    "    Применяются для создания векторных представлений текста.\n",
    "    Пример кода для использования предварительно обученных Word Embeddings (например, Word2Vec):"
   ]
  },
  {
   "cell_type": "code",
   "execution_count": 91,
   "id": "c80f2104",
   "metadata": {},
   "outputs": [
    {
     "name": "stderr",
     "output_type": "stream",
     "text": [
      "C:\\Users\\user\\anaconda3\\lib\\site-packages\\numpy\\core\\fromnumeric.py:3432: RuntimeWarning: Mean of empty slice.\n",
      "  return _methods._mean(a, axis=axis, dtype=dtype,\n",
      "C:\\Users\\user\\anaconda3\\lib\\site-packages\\numpy\\core\\_methods.py:190: RuntimeWarning: invalid value encountered in double_scalars\n",
      "  ret = ret.dtype.type(ret / rcount)\n"
     ]
    }
   ],
   "source": [
    "from gensim.models import Word2Vec\n",
    "import numpy as np\n",
    "\n",
    "# Обучение модели Word2Vec на текстовых данных\n",
    "sentences = hotels['positive_review'].apply(str.split).tolist()\n",
    "w2v_model = Word2Vec(sentences=sentences, vector_size=100, window=5, min_count=1, sg=0)\n",
    "\n",
    "# Получение усредненного вектора для каждого текста\n",
    "vectors = []\n",
    "\n",
    "for sentence in sentences:\n",
    "    vector = np.mean([w2v_model.wv[word] for word in sentence if word in w2v_model.wv], axis=0)\n",
    "    if not np.isnan(vector).any():\n",
    "        vectors.append(vector)\n",
    "\n",
    "# Теперь vectors содержит усредненные векторы для каждого текста"
   ]
  },
  {
   "cell_type": "code",
   "execution_count": null,
   "id": "f60ee0fc",
   "metadata": {},
   "outputs": [],
   "source": [
    "Шаг 6: Подготовка данных\n",
    "\n",
    "Подготовим данные для обучения модели, включая кодирование категориальных признаков и масштабирование непрерывных признаков."
   ]
  },
  {
   "cell_type": "code",
   "execution_count": null,
   "id": "ff1e131b",
   "metadata": {},
   "outputs": [],
   "source": [
    "На этом этапе подготовим данные для обучения модели. Это включает в себя следующие действия:\n",
    "\n",
    "    1)Кодирование категориальных признаков: Преобразование категориальных признаков в числовой формат.\n",
    "    Для этого мы можем использовать методы кодирования, такие как One-Hot Encoding или Label Encoding,\n",
    "    в зависимости от типа данных.\n",
    "\n",
    "    2)Масштабирование непрерывных признаков: Некоторые модели машинного обучения могут быть чувствительны\n",
    "    к масштабу признаков, поэтому целесообразно масштабировать непрерывные признаки.\n",
    "\n",
    "Давайте начнем с кодирования категориальных признаков:\n",
    "Кодирование категориальных признаков\n",
    "\n",
    "Из нашего описания данных, следующие столбцы можно рассматривать как категориальные:\n",
    "\n",
    "    'hotel_address'\n",
    "    'hotel_name'\n",
    "    'reviewer_nationality'\n",
    "    'tags'\n",
    "\n",
    "Мы можем использовать One-Hot Encoding для преобразования их в числовой формат.\n",
    "Давайте сначала применим One-Hot Encoding к этим столбцам:"
   ]
  },
  {
   "cell_type": "code",
   "execution_count": 92,
   "id": "50d4ac8b",
   "metadata": {},
   "outputs": [
    {
     "ename": "KeyboardInterrupt",
     "evalue": "",
     "output_type": "error",
     "traceback": [
      "\u001b[1;31m---------------------------------------------------------------------------\u001b[0m",
      "\u001b[1;31mKeyboardInterrupt\u001b[0m                         Traceback (most recent call last)",
      "Cell \u001b[1;32mIn[92], line 1\u001b[0m\n\u001b[1;32m----> 1\u001b[0m hotels \u001b[38;5;241m=\u001b[39m \u001b[43mpd\u001b[49m\u001b[38;5;241;43m.\u001b[39;49m\u001b[43mget_dummies\u001b[49m\u001b[43m(\u001b[49m\u001b[43mhotels\u001b[49m\u001b[43m,\u001b[49m\u001b[43m \u001b[49m\u001b[43mcolumns\u001b[49m\u001b[38;5;241;43m=\u001b[39;49m\u001b[43m[\u001b[49m\u001b[38;5;124;43m'\u001b[39;49m\u001b[38;5;124;43mhotel_address\u001b[39;49m\u001b[38;5;124;43m'\u001b[39;49m\u001b[43m,\u001b[49m\u001b[43m \u001b[49m\u001b[38;5;124;43m'\u001b[39;49m\u001b[38;5;124;43mhotel_name\u001b[39;49m\u001b[38;5;124;43m'\u001b[39;49m\u001b[43m,\u001b[49m\u001b[43m \u001b[49m\u001b[38;5;124;43m'\u001b[39;49m\u001b[38;5;124;43mreviewer_nationality\u001b[39;49m\u001b[38;5;124;43m'\u001b[39;49m\u001b[43m,\u001b[49m\u001b[43m \u001b[49m\u001b[38;5;124;43m'\u001b[39;49m\u001b[38;5;124;43mtags\u001b[39;49m\u001b[38;5;124;43m'\u001b[39;49m\u001b[43m]\u001b[49m\u001b[43m,\u001b[49m\u001b[43m \u001b[49m\u001b[43mdrop_first\u001b[49m\u001b[38;5;241;43m=\u001b[39;49m\u001b[38;5;28;43;01mTrue\u001b[39;49;00m\u001b[43m)\u001b[49m\n",
      "File \u001b[1;32m~\\anaconda3\\lib\\site-packages\\pandas\\core\\reshape\\encoding.py:192\u001b[0m, in \u001b[0;36mget_dummies\u001b[1;34m(data, prefix, prefix_sep, dummy_na, columns, sparse, drop_first, dtype)\u001b[0m\n\u001b[0;32m    188\u001b[0m     with_dummies \u001b[38;5;241m=\u001b[39m [data\u001b[38;5;241m.\u001b[39mselect_dtypes(exclude\u001b[38;5;241m=\u001b[39mdtypes_to_encode)]\n\u001b[0;32m    190\u001b[0m \u001b[38;5;28;01mfor\u001b[39;00m (col, pre, sep) \u001b[38;5;129;01min\u001b[39;00m \u001b[38;5;28mzip\u001b[39m(data_to_encode\u001b[38;5;241m.\u001b[39mitems(), prefix, prefix_sep):\n\u001b[0;32m    191\u001b[0m     \u001b[38;5;66;03m# col is (column_name, column), use just column data here\u001b[39;00m\n\u001b[1;32m--> 192\u001b[0m     dummy \u001b[38;5;241m=\u001b[39m \u001b[43m_get_dummies_1d\u001b[49m\u001b[43m(\u001b[49m\n\u001b[0;32m    193\u001b[0m \u001b[43m        \u001b[49m\u001b[43mcol\u001b[49m\u001b[43m[\u001b[49m\u001b[38;5;241;43m1\u001b[39;49m\u001b[43m]\u001b[49m\u001b[43m,\u001b[49m\n\u001b[0;32m    194\u001b[0m \u001b[43m        \u001b[49m\u001b[43mprefix\u001b[49m\u001b[38;5;241;43m=\u001b[39;49m\u001b[43mpre\u001b[49m\u001b[43m,\u001b[49m\n\u001b[0;32m    195\u001b[0m \u001b[43m        \u001b[49m\u001b[43mprefix_sep\u001b[49m\u001b[38;5;241;43m=\u001b[39;49m\u001b[43msep\u001b[49m\u001b[43m,\u001b[49m\n\u001b[0;32m    196\u001b[0m \u001b[43m        \u001b[49m\u001b[43mdummy_na\u001b[49m\u001b[38;5;241;43m=\u001b[39;49m\u001b[43mdummy_na\u001b[49m\u001b[43m,\u001b[49m\n\u001b[0;32m    197\u001b[0m \u001b[43m        \u001b[49m\u001b[43msparse\u001b[49m\u001b[38;5;241;43m=\u001b[39;49m\u001b[43msparse\u001b[49m\u001b[43m,\u001b[49m\n\u001b[0;32m    198\u001b[0m \u001b[43m        \u001b[49m\u001b[43mdrop_first\u001b[49m\u001b[38;5;241;43m=\u001b[39;49m\u001b[43mdrop_first\u001b[49m\u001b[43m,\u001b[49m\n\u001b[0;32m    199\u001b[0m \u001b[43m        \u001b[49m\u001b[43mdtype\u001b[49m\u001b[38;5;241;43m=\u001b[39;49m\u001b[43mdtype\u001b[49m\u001b[43m,\u001b[49m\n\u001b[0;32m    200\u001b[0m \u001b[43m    \u001b[49m\u001b[43m)\u001b[49m\n\u001b[0;32m    201\u001b[0m     with_dummies\u001b[38;5;241m.\u001b[39mappend(dummy)\n\u001b[0;32m    202\u001b[0m result \u001b[38;5;241m=\u001b[39m concat(with_dummies, axis\u001b[38;5;241m=\u001b[39m\u001b[38;5;241m1\u001b[39m)\n",
      "File \u001b[1;32m~\\anaconda3\\lib\\site-packages\\pandas\\core\\reshape\\encoding.py:311\u001b[0m, in \u001b[0;36m_get_dummies_1d\u001b[1;34m(data, prefix, prefix_sep, dummy_na, sparse, drop_first, dtype)\u001b[0m\n\u001b[0;32m    307\u001b[0m     \u001b[38;5;28;01mreturn\u001b[39;00m concat(sparse_series, axis\u001b[38;5;241m=\u001b[39m\u001b[38;5;241m1\u001b[39m, copy\u001b[38;5;241m=\u001b[39m\u001b[38;5;28;01mFalse\u001b[39;00m)\n\u001b[0;32m    309\u001b[0m \u001b[38;5;28;01melse\u001b[39;00m:\n\u001b[0;32m    310\u001b[0m     \u001b[38;5;66;03m# take on axis=1 + transpose to ensure ndarray layout is column-major\u001b[39;00m\n\u001b[1;32m--> 311\u001b[0m     dummy_mat \u001b[38;5;241m=\u001b[39m \u001b[43mnp\u001b[49m\u001b[38;5;241;43m.\u001b[39;49m\u001b[43meye\u001b[49m\u001b[43m(\u001b[49m\u001b[43mnumber_of_cols\u001b[49m\u001b[43m,\u001b[49m\u001b[43m \u001b[49m\u001b[43mdtype\u001b[49m\u001b[38;5;241;43m=\u001b[39;49m\u001b[43mdtype\u001b[49m\u001b[43m)\u001b[49m\u001b[38;5;241;43m.\u001b[39;49m\u001b[43mtake\u001b[49m\u001b[43m(\u001b[49m\u001b[43mcodes\u001b[49m\u001b[43m,\u001b[49m\u001b[43m \u001b[49m\u001b[43maxis\u001b[49m\u001b[38;5;241;43m=\u001b[39;49m\u001b[38;5;241;43m1\u001b[39;49m\u001b[43m)\u001b[49m\u001b[38;5;241m.\u001b[39mT\n\u001b[0;32m    313\u001b[0m     \u001b[38;5;28;01mif\u001b[39;00m \u001b[38;5;129;01mnot\u001b[39;00m dummy_na:\n\u001b[0;32m    314\u001b[0m         \u001b[38;5;66;03m# reset NaN GH4446\u001b[39;00m\n\u001b[0;32m    315\u001b[0m         dummy_mat[codes \u001b[38;5;241m==\u001b[39m \u001b[38;5;241m-\u001b[39m\u001b[38;5;241m1\u001b[39m] \u001b[38;5;241m=\u001b[39m \u001b[38;5;241m0\u001b[39m\n",
      "\u001b[1;31mKeyboardInterrupt\u001b[0m: "
     ]
    }
   ],
   "source": [
    "hotels = pd.get_dummies(hotels, columns=['hotel_address', 'hotel_name', 'reviewer_nationality', 'tags'], drop_first=True)"
   ]
  },
  {
   "cell_type": "code",
   "execution_count": null,
   "id": "1e6f6ccf",
   "metadata": {},
   "outputs": [],
   "source": [
    "Масштабирование непрерывных признаков\n",
    "\n",
    "Некоторые столбцы, такие как 'average_score', 'total_number_of_reviews', 'total_number_of_reviews_reviewer_has_given',\n",
    "'days_since_review', 'lat', и 'lng', являются непрерывными признаками.\n",
    "Для масштабирования можно использовать StandardScaler или MinMaxScaler из библиотеки scikit-learn.\n",
    "Эти методы приведут признаки к определенному диапазону, что может быть полезно для некоторых моделей.\n",
    "\n",
    "Для применения масштабирования к этим столбцам, выполним следующий код:"
   ]
  },
  {
   "cell_type": "code",
   "execution_count": 95,
   "id": "1c775d0e",
   "metadata": {},
   "outputs": [
    {
     "name": "stderr",
     "output_type": "stream",
     "text": [
      "C:\\Users\\user\\anaconda3\\lib\\site-packages\\sklearn\\utils\\extmath.py:1047: RuntimeWarning: invalid value encountered in divide\n",
      "  updated_mean = (last_sum + new_sum) / updated_sample_count\n",
      "C:\\Users\\user\\anaconda3\\lib\\site-packages\\sklearn\\utils\\extmath.py:1052: RuntimeWarning: invalid value encountered in divide\n",
      "  T = new_sum / new_sample_count\n",
      "C:\\Users\\user\\anaconda3\\lib\\site-packages\\sklearn\\utils\\extmath.py:1072: RuntimeWarning: invalid value encountered in divide\n",
      "  new_unnormalized_variance -= correction**2 / new_sample_count\n"
     ]
    }
   ],
   "source": [
    "from sklearn.preprocessing import StandardScaler\n",
    "import pandas as pd\n",
    "\n",
    "# Преобразование 'days_since_review' в числовой формат\n",
    "hotels['days_since_review'] = pd.to_numeric(hotels['days_since_review'], errors='coerce')\n",
    "\n",
    "# Выбор числовых столбцов для масштабирования\n",
    "numerical_columns = ['average_score', 'total_number_of_reviews', 'total_number_of_reviews_reviewer_has_given', 'days_since_review', 'lat', 'lng']\n",
    "\n",
    "# Создание объекта StandardScaler\n",
    "scaler = StandardScaler()\n",
    "\n",
    "# Применение StandardScaler к числовым столбцам\n",
    "hotels[numerical_columns] = scaler.fit_transform(hotels[numerical_columns])"
   ]
  },
  {
   "cell_type": "code",
   "execution_count": null,
   "id": "05fefd79",
   "metadata": {},
   "outputs": [],
   "source": [
    "Теперь у нас есть данные, подготовленные для обучения модели. Выбор метода масштабирования и кодирования может зависеть\n",
    "от конкретной модели, с которой мы планируем работать, поэтому стоит экспериментировать с разными вариантами."
   ]
  },
  {
   "cell_type": "code",
   "execution_count": null,
   "id": "d541031f",
   "metadata": {},
   "outputs": [],
   "source": [
    "Шаг 7: Разделение данных\n",
    "\n",
    "Разделим данные на обучающий и тестовый наборы."
   ]
  },
  {
   "cell_type": "code",
   "execution_count": null,
   "id": "57b9bdd6",
   "metadata": {},
   "outputs": [],
   "source": [
    "На этом шаге, мы разделим данные на обучающий и тестовый наборы. Обучающий набор будет использоваться для обучения модели,\n",
    "а тестовый набор для оценки её производительности. Таким образ, мы сможем проверить, насколько хорошо модель обобщает\n",
    "данные на новых, ранее не виденных примерах.\n",
    "\n",
    "Для разделения данных, мы будем использовать библиотеку scikit-learn. Мы разделим данные в соотношении 80% обучающего\n",
    "набора и 20% тестового набора. Вот как это можно сделать:"
   ]
  },
  {
   "cell_type": "code",
   "execution_count": 103,
   "id": "7bda3108",
   "metadata": {},
   "outputs": [],
   "source": [
    "from sklearn.model_selection import train_test_split\n",
    "\n",
    "# Разделение данных на признаки (X) и целевую переменную (y)\n",
    "X = hotels.drop('reviewer_score', axis=1)\n",
    "y = hotels['reviewer_score']\n",
    "\n",
    "# Разделение на обучающий и тестовый наборы\n",
    "X_train, X_test, y_train, y_test = train_test_split(X, y, test_size=0.2, random_state=42)\n",
    "\n",
    "# X_train - обучающие признаки\n",
    "# y_train - обучающая целевая переменная\n",
    "# X_test - тестовые признаки\n",
    "# y_test - тестовая целевая переменная\n"
   ]
  },
  {
   "cell_type": "code",
   "execution_count": null,
   "id": "3688d349",
   "metadata": {},
   "outputs": [],
   "source": [
    "Шаг 8: Обучение модели\n",
    "\n",
    "Выберем алгоритм машинного обучения и обучим модель на обучающем наборе данных."
   ]
  },
  {
   "cell_type": "code",
   "execution_count": null,
   "id": "d8954356",
   "metadata": {},
   "outputs": [],
   "source": [
    "Выбор алгоритма машинного обучения зависит от характера задачи и данных. Для задачи предсказания рейтинга отелей можно\n",
    "использовать различные алгоритмы, такие как линейная регрессия, случайный лес, градиентный бустинг и другие.\n",
    "\n",
    "В данном случае, давайте воспользуемся моделью линейной регрессии.\n",
    "Это простой алгоритм, который позволит нам начать и проверить базовую модель."
   ]
  },
  {
   "cell_type": "code",
   "execution_count": null,
   "id": "ce1def94",
   "metadata": {},
   "outputs": [],
   "source": [
    "from sklearn.linear_model import LinearRegression\n",
    "\n",
    "# Пример кодирования категориальных признаков с использованием one-hot encoding\n",
    "hotels = pd.get_dummies(hotels, columns=['hotel_address', 'hotel_name', 'reviewer_nationality', 'tags'], drop_first=True)\n",
    "\n",
    "# Преобразование столбца 'review_date' в числовой формат\n",
    "hotels['review_date'] = pd.to_datetime(hotels['review_date'], format='%m/%d/%Y')  # Изменен формат даты\n",
    "hotels['days_since_review'] = (hotels['review_date'] - hotels['review_date'].min()).dt.days\n",
    "\n",
    "# Создание модели линейной регрессии\n",
    "model = LinearRegression()\n",
    "\n",
    "# Обучение модели на обучающем наборе данных\n",
    "model.fit(X_train, y_train)\n",
    "\n",
    "# Теперь у нас есть обученная модель линейной регрессии, которую можно использовать для предсказания рейтингов отелей на тестовом наборе данных"
   ]
  },
  {
   "cell_type": "code",
   "execution_count": null,
   "id": "8b67bc0c",
   "metadata": {},
   "outputs": [],
   "source": [
    "Где:\n",
    "\n",
    "    X_train - обучающие признаки\n",
    "    y_train - обучающая целевая переменная\n",
    "\n",
    "После обучения модели, мы можем использовать её для предсказания рейтингов на тестовом наборе данных."
   ]
  },
  {
   "cell_type": "code",
   "execution_count": null,
   "id": "c326c020",
   "metadata": {},
   "outputs": [],
   "source": [
    "Шаг 9: Оценка модели\n",
    "\n",
    "Оценим качество модели на тестовом наборе данных."
   ]
  },
  {
   "cell_type": "code",
   "execution_count": null,
   "id": "09814e33",
   "metadata": {},
   "outputs": [],
   "source": [
    "Для оценки качества модели линейной регрессии на тестовом наборе данных, мы можем использовать метрику,\n",
    "подходящую для задачи регрессии, например, среднюю абсолютную процентную ошибку (MAPE), среднюю квадратичную ошибку (MSE)\n",
    "или коэффициент детерминации (R-squared).\n",
    "\n",
    "Пример оценки модели с использованием MAPE:"
   ]
  },
  {
   "cell_type": "code",
   "execution_count": null,
   "id": "abbc81e5",
   "metadata": {},
   "outputs": [],
   "source": [
    "from sklearn.metrics import mean_absolute_error\n",
    "\n",
    "# Assuming you have a separate dataset 'X_test' that you want to predict on\n",
    "X_test = pd.get_dummies(X_test, columns=['hotel_address'], drop_first=True)\n",
    "\n",
    "# Make sure the 'review_date' column in X_test is converted to datetime and 'days_since_review' is calculated in the same way as in your training data\n",
    "\n",
    "X_test['review_date'] = pd.to_datetime(X_test['review_date'], format='%m/%d/%Y')\n",
    "X_test['days_since_review'] = (X_test['review_date'] - hotels['review_date'].min()).dt.days\n",
    "hotels = pd.get_dummies(hotels, columns=['hotel_address'], drop_first=True)\n",
    "hotels['review_date'] = pd.to_datetime(hotels['review_date'], format='%m/%d/%Y')\n",
    "hotels['days_since_review'] = (hotels['review_date'] - hotels['review_date'].min()).dt.days\n",
    "\n",
    "# Предсказание рейтингов на тестовом наборе данных\n",
    "y_pred = model.predict(X_test)\n",
    "\n",
    "# Вычисление MAPE\n",
    "mape = mean_absolute_error(y_test, y_pred)\n",
    "\n",
    "print(f\"MAPE: {mape}\")"
   ]
  },
  {
   "cell_type": "code",
   "execution_count": null,
   "id": "22d04a46",
   "metadata": {},
   "outputs": [],
   "source": [
    "Шаг 10: Улучшение модели\n",
    "\n",
    "Попробуем улучшить модель, изменяя параметры алгоритма или добавляя новые признаки."
   ]
  },
  {
   "cell_type": "code",
   "execution_count": null,
   "id": "4e5b4620",
   "metadata": {},
   "outputs": [],
   "source": [
    "Используем кросс-валидацию для более надежной оценки модели и предотвращения переобучения. Напиши код"
   ]
  },
  {
   "cell_type": "code",
   "execution_count": null,
   "id": "851b15d6",
   "metadata": {},
   "outputs": [],
   "source": [
    "from sklearn.model_selection import cross_val_score\n",
    "from sklearn.ensemble import RandomForestRegressor\n",
    "\n",
    "# Создаем модель RandomForestRegressor с выбранными параметрами\n",
    "model = RandomForestRegressor(n_estimators=100, random_state=42)\n",
    "\n",
    "# Оценка модели с помощью кросс-валидации (например, 5-кратной)\n",
    "scores = cross_val_score(model, X, y, cv=5, scoring='neg_mean_absolute_error')\n",
    "\n",
    "# Измерим среднее значение ошибки\n",
    "mean_error = -scores.mean()\n",
    "\n",
    "print(f\"Средняя ошибка (MAE) при кросс-валидации: {mean_error}\")"
   ]
  },
  {
   "cell_type": "code",
   "execution_count": null,
   "id": "a9b36f2b",
   "metadata": {},
   "outputs": [],
   "source": [
    "Этот код позволяет провести оценку модели на различных частях данных, что помогает оценить ее производительность\n",
    "и предотвратить переобучение."
   ]
  },
  {
   "cell_type": "code",
   "execution_count": null,
   "id": "5d34cc9e",
   "metadata": {},
   "outputs": [],
   "source": [
    "Шаг 11: Финальная оценка и сабмит\n",
    "\n",
    "После достижения желаемого качества модели, мы можем сделать финальную оценку и сабмит результата."
   ]
  },
  {
   "cell_type": "code",
   "execution_count": null,
   "id": "ca82d4e8",
   "metadata": {},
   "outputs": [],
   "source": [
    "После того как модель обучена и оценена, мы можем провести финальную оценку качества модели на тестовом наборе данных\n",
    "и подготовить данные для сабмита, если это требуется.\n",
    "\n",
    "Вот пример кода для оценки модели и подготовки данных для сабмита:"
   ]
  },
  {
   "cell_type": "code",
   "execution_count": null,
   "id": "5c6a1132",
   "metadata": {},
   "outputs": [],
   "source": [
    "# Оценка модели на тестовом наборе данных\n",
    "test_features = test_data.select_dtypes(include=[np.number])  # Выбираем числовые признаки\n",
    "test_features = test_features.drop('reviewer_score', axis=1)  # Удаляем целевую переменную\n",
    "X_test = imputer.transform(test_features)  # Заполняем пропущенные значения\n",
    "y_pred = regr.predict(X_test)  # Прогнозируем значения\n",
    "\n",
    "# Создание датафрейма с прогнозами\n",
    "submission_df = pd.DataFrame({'reviewer_score': y_pred})\n",
    "\n",
    "# Сохранение прогнозов в файл (если это требуется)\n",
    "submission_df.to_csv('submission.csv', index=False)"
   ]
  },
  {
   "cell_type": "code",
   "execution_count": null,
   "id": "5ab60d22",
   "metadata": {},
   "outputs": [],
   "source": [
    "В этом коде мы:\n",
    "\n",
    "    Выбираем числовые признаки из тестовых данных и удаляем целевую переменную.\n",
    "    Заполняем пропущенные значения с использованием того же импутера, который мы использовали для обучающих данных.\n",
    "    Прогнозируем значения целевой переменной на тестовых данных с помощью обученной модели.\n",
    "    Создаем датафрейм с прогнозами и сохраняем его в CSV-файл, который может быть отправлен в систему сабмита для оценки."
   ]
  },
  {
   "cell_type": "code",
   "execution_count": null,
   "id": "7bd19f4f",
   "metadata": {},
   "outputs": [],
   "source": [
    "Этот код представляет финальный этап нашей работы, где мы можем оценить модель на тестовых данных и подготовить результаты для сабмита."
   ]
  }
 ],
 "metadata": {
  "kernelspec": {
   "display_name": "Python 3 (ipykernel)",
   "language": "python",
   "name": "python3"
  },
  "language_info": {
   "codemirror_mode": {
    "name": "ipython",
    "version": 3
   },
   "file_extension": ".py",
   "mimetype": "text/x-python",
   "name": "python",
   "nbconvert_exporter": "python",
   "pygments_lexer": "ipython3",
   "version": "3.10.9"
  }
 },
 "nbformat": 4,
 "nbformat_minor": 5
}
